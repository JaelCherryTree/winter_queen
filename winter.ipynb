{
 "cells": [
  {
   "cell_type": "code",
   "execution_count": 8,
   "metadata": {},
   "outputs": [],
   "source": [
    "#!pip install pymorphy2\n",
    "from pymorphy2 import MorphAnalyzer\n",
    "morph = MorphAnalyzer()"
   ]
  },
  {
   "cell_type": "code",
   "execution_count": 9,
   "metadata": {},
   "outputs": [],
   "source": [
    "def make_list(string): #разделяет строку на слова\n",
    "    my_list = string.split(' ')\n",
    "    for x in range(len(my_list)):\n",
    "        if my_list[x].endswith(','): #убираем запятые, потом будем расставлять заново\n",
    "            my_list[x] = my_list[x][:-1]\n",
    "    return my_list"
   ]
  },
  {
   "cell_type": "code",
   "execution_count": 10,
   "metadata": {},
   "outputs": [],
   "source": [
    "def double(s, l): #удваивает буквы из списка l в строке s, если они не стоят в начале слова\n",
    "    for ll in l:\n",
    "        if not s.startswith(ll):\n",
    "            s = s.replace(ll, ll*2)\n",
    "    return s"
   ]
  },
  {
   "cell_type": "code",
   "execution_count": 11,
   "metadata": {},
   "outputs": [],
   "source": [
    "def beautiful_words(w_list): #всячески извращается над словами\n",
    "    a = 0\n",
    "    b_w = []\n",
    "    for w in w_list:\n",
    "        form = morph.parse(w)[0].tag.case\n",
    "        if form == 'nomn':\n",
    "            w += ',' #ставит запятую после слова в именительном падеже\n",
    "        w = double(w, ['ф', 'л'])\n",
    "        if 'ё' in w:\n",
    "            w = w.replace('и', 'е')\n",
    "        if w.startswith('пре'):\n",
    "            w = w.replace('пре', 'при')\n",
    "        elif w.startswith('при'):\n",
    "            w = w.replace('при', 'пре')\n",
    "        if w.endswith('!'):\n",
    "            if a%2 == 0:\n",
    "                w = w.replace('!', '!!!')\n",
    "            a += 1\n",
    "        b_w.append(w)\n",
    "    return b_w"
   ]
  },
  {
   "cell_type": "code",
   "execution_count": 12,
   "metadata": {},
   "outputs": [],
   "source": [
    "def corr(w_list, d_one, d_two):\n",
    "    end = []\n",
    "    yes = 0\n",
    "    for w in w_list:\n",
    "        for k in d_one.keys():\n",
    "            if k in w:\n",
    "                w = w.replace(k, d_one[k])\n",
    "                yes = 1\n",
    "        if yes == 0:\n",
    "            for k in d_two.keys():\n",
    "                if k in w:\n",
    "                    w = w.replace(k, d_two[k])\n",
    "        end.append(w)\n",
    "    sentence = ' '.join(end)\n",
    "    return sentence"
   ]
  },
  {
   "cell_type": "code",
   "execution_count": 13,
   "metadata": {},
   "outputs": [],
   "source": [
    "def main():\n",
    "    correct_one = {'ара': 'оро', 'ана': 'оно', 'ере': 'ири', 'еле': 'или'}\n",
    "    correct_two = {'оро': 'ара', 'ири': 'ере', 'одо': 'ада'}\n",
    "    my_text = input()\n",
    "    my_list = make_list(my_text)\n",
    "    b_w = beautiful_words(my_list)\n",
    "    s = corr(b_w, correct_one, correct_two)\n",
    "    print(s)"
   ]
  },
  {
   "cell_type": "code",
   "execution_count": 14,
   "metadata": {},
   "outputs": [
    {
     "name": "stdout",
     "output_type": "stream",
     "text": [
      "Мама мыла фиговую раму! Я всецело одобряю караван прикольных ананасов. Это прекрасно!\n",
      "Мама, мылла фиговую раму!!! Я, всецелло адабряю корован, преколльных ононасов. Это прикрасно!\n"
     ]
    }
   ],
   "source": [
    "if __name__ == \"__main__\":\n",
    "    main()"
   ]
  },
  {
   "cell_type": "code",
   "execution_count": null,
   "metadata": {},
   "outputs": [],
   "source": []
  }
 ],
 "metadata": {
  "kernelspec": {
   "display_name": "Python 3",
   "language": "python",
   "name": "python3"
  },
  "language_info": {
   "codemirror_mode": {
    "name": "ipython",
    "version": 3
   },
   "file_extension": ".py",
   "mimetype": "text/x-python",
   "name": "python",
   "nbconvert_exporter": "python",
   "pygments_lexer": "ipython3",
   "version": "3.8.6rc1"
  }
 },
 "nbformat": 4,
 "nbformat_minor": 4
}
